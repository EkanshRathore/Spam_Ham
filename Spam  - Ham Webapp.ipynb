{
 "cells": [
  {
   "cell_type": "markdown",
   "source": [
    "# We Are Creating Streamlit Web Application\n"
   ],
   "metadata": {
    "collapsed": false
   },
   "id": "4b42091acecba48a"
  },
  {
   "cell_type": "code",
   "execution_count": 1,
   "id": "initial_id",
   "metadata": {
    "collapsed": true,
    "ExecuteTime": {
     "end_time": "2024-04-27T19:28:07.209321Z",
     "start_time": "2024-04-27T19:28:07.201248Z"
    }
   },
   "outputs": [
    {
     "name": "stdout",
     "output_type": "stream",
     "text": [
      "Writing app.py\n"
     ]
    }
   ],
   "source": [
    "%%writefile app.py\n",
    "import streamlit as st\n",
    "import joblib\n",
    "\n",
    "model = joblib.load('spam-ham')\n",
    "st.title('SPAM-HAM CLASSIFIER')  # IT gives title\n",
    "ip = st.text_input(\"Enter The Message\")  #IT Creates A Textbox\n",
    "op = model.predict([ip])\n",
    "if st.button(\"Predict\"):  # Creates A button with name predict\n",
    "    st.title(op[0])  #The 0th Element in the op variable is displayed as a title"
   ]
  }
 ],
 "metadata": {
  "kernelspec": {
   "display_name": "Python 3",
   "language": "python",
   "name": "python3"
  },
  "language_info": {
   "codemirror_mode": {
    "name": "ipython",
    "version": 2
   },
   "file_extension": ".py",
   "mimetype": "text/x-python",
   "name": "python",
   "nbconvert_exporter": "python",
   "pygments_lexer": "ipython2",
   "version": "2.7.6"
  }
 },
 "nbformat": 4,
 "nbformat_minor": 5
}
